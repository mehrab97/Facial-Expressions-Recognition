{
  "nbformat": 4,
  "nbformat_minor": 0,
  "metadata": {
    "colab": {
      "name": "facial_expression_recognition.ipynb",
      "provenance": [],
      "collapsed_sections": []
    },
    "kernelspec": {
      "display_name": "Python 3",
      "name": "python3"
    },
    "accelerator": "GPU"
  },
  "cells": [
    {
      "cell_type": "code",
      "metadata": {
        "id": "9FOsJjdL3-83",
        "outputId": "94754a1f-f5c6-4508-b1e1-b2bc05758eb2",
        "colab": {
          "base_uri": "https://localhost:8080/"
        }
      },
      "source": [
        "!git clone https://github.com/muxspace/facial_expressions.git"
      ],
      "execution_count": 2,
      "outputs": [
        {
          "output_type": "stream",
          "text": [
            "Cloning into 'facial_expressions'...\n",
            "remote: Enumerating objects: 14214, done.\u001b[K\n",
            "remote: Total 14214 (delta 0), reused 0 (delta 0), pack-reused 14214\u001b[K\n",
            "Receiving objects: 100% (14214/14214), 239.65 MiB | 43.69 MiB/s, done.\n",
            "Resolving deltas: 100% (223/223), done.\n",
            "Checking out files: 100% (13996/13996), done.\n"
          ],
          "name": "stdout"
        }
      ]
    },
    {
      "cell_type": "code",
      "metadata": {
        "id": "Lt1GPCNq4Ue_"
      },
      "source": [
        "import csv\n",
        "data={}\n",
        "with open('/content/facial_expressions/data/legend.csv') as f:\n",
        "  reader=csv.reader(f)\n",
        "  next(reader)\n",
        "  for row in reader:\n",
        "    key=row[2].lower()\n",
        "    if key in data:\n",
        "      data[key].append(row[1])\n",
        "    else:\n",
        "      data[key]=[row[1]]"
      ],
      "execution_count": 3,
      "outputs": []
    },
    {
      "cell_type": "code",
      "metadata": {
        "id": "5ThcqY64ARjN",
        "outputId": "27b5d215-9226-44e6-dd8a-5dd3be4d0564",
        "colab": {
          "base_uri": "https://localhost:8080/"
        }
      },
      "source": [
        "#Directory structure -- imagedatagenerator class from keras \n",
        "emotion_list=list(data.keys())\n",
        "emotion_list\n",
        "#Smaller and upper case. Don't want like that\n",
        "#8 sub-directories"
      ],
      "execution_count": 4,
      "outputs": [
        {
          "output_type": "execute_result",
          "data": {
            "text/plain": [
              "['anger',\n",
              " 'surprise',\n",
              " 'disgust',\n",
              " 'fear',\n",
              " 'neutral',\n",
              " 'happiness',\n",
              " 'sadness',\n",
              " 'contempt']"
            ]
          },
          "metadata": {
            "tags": []
          },
          "execution_count": 4
        }
      ]
    },
    {
      "cell_type": "code",
      "metadata": {
        "id": "g2MiNNO5CA7u"
      },
      "source": [
        "import os\n",
        "os.mkdir('master_data')\n",
        "os.mkdir('master_data/training')\n",
        "os.mkdir('master_data/testing')"
      ],
      "execution_count": 5,
      "outputs": []
    },
    {
      "cell_type": "code",
      "metadata": {
        "id": "k0SjJ8Y3CdKQ"
      },
      "source": [
        "for emotion in emotion_list:\n",
        "  os.mkdir(os.path.join('master_data/training',emotion))\n",
        "  os.mkdir(os.path.join('master_data/testing',emotion))"
      ],
      "execution_count": 6,
      "outputs": []
    },
    {
      "cell_type": "code",
      "metadata": {
        "id": "cZ1gq2RnC5fT"
      },
      "source": [
        "from shutil import copyfile\n",
        "split_size=0.8\n",
        "\n",
        "for emotion,images in data.items():\n",
        "  train_size=int(split_size*len(images))\n",
        "  train_images=images[:train_size]\n",
        "  test_images=images[train_size:]\n",
        "  for image in train_images:\n",
        "    source=os.path.join('/content/facial_expressions/images',image)\n",
        "    dest=os.path.join('/content/master_data/training',emotion,image)\n",
        "    copyfile(source,dest)\n",
        "\n",
        "  for image in test_images:\n",
        "    source=os.path.join('/content/facial_expressions/images',image)\n",
        "    dest=os.path.join('/content/master_data/testing',emotion,image)\n",
        "    copyfile(source,dest)\n",
        "\n"
      ],
      "execution_count": 7,
      "outputs": []
    },
    {
      "cell_type": "code",
      "metadata": {
        "id": "ZOlfJTCmF59R"
      },
      "source": [
        "import tensorflow as tf\n",
        "from tensorflow.keras.preprocessing.image import ImageDataGenerator\n",
        "from tensorflow.keras.optimizers import Adam\n",
        "from tensorflow.keras.callbacks import EarlyStopping\n",
        "from tensorflow.keras.layers import Conv2D, MaxPooling2D, Dense, Flatten"
      ],
      "execution_count": 8,
      "outputs": []
    },
    {
      "cell_type": "code",
      "metadata": {
        "id": "tCL9sM_kJmFe",
        "outputId": "1de95029-c84f-46ae-e74a-a08675895183",
        "colab": {
          "base_uri": "https://localhost:8080/"
        }
      },
      "source": [
        "model=tf.keras.models.Sequential([\n",
        "  Conv2D(16,(3,3),activation='relu',input_shape=(100,100, 3)),\n",
        "  MaxPooling2D(2,2),\n",
        "  Conv2D(32,(3,3),activation='relu'),\n",
        "  MaxPooling2D(2,2),\n",
        "  Conv2D(64,(3,3),activation='relu'),\n",
        "  MaxPooling2D(2,2),   \n",
        "  Flatten(),\n",
        "  Dense(512,activation='relu'),\n",
        "  Dense(8,activation='softmax')                             \n",
        "])\n",
        "model.compile(optimizer=Adam(lr=0.01),loss='categorical_crossentropy',metrics=['acc'])\n",
        "model.summary()"
      ],
      "execution_count": 9,
      "outputs": [
        {
          "output_type": "stream",
          "text": [
            "Model: \"sequential\"\n",
            "_________________________________________________________________\n",
            "Layer (type)                 Output Shape              Param #   \n",
            "=================================================================\n",
            "conv2d (Conv2D)              (None, 98, 98, 16)        448       \n",
            "_________________________________________________________________\n",
            "max_pooling2d (MaxPooling2D) (None, 49, 49, 16)        0         \n",
            "_________________________________________________________________\n",
            "conv2d_1 (Conv2D)            (None, 47, 47, 32)        4640      \n",
            "_________________________________________________________________\n",
            "max_pooling2d_1 (MaxPooling2 (None, 23, 23, 32)        0         \n",
            "_________________________________________________________________\n",
            "conv2d_2 (Conv2D)            (None, 21, 21, 64)        18496     \n",
            "_________________________________________________________________\n",
            "max_pooling2d_2 (MaxPooling2 (None, 10, 10, 64)        0         \n",
            "_________________________________________________________________\n",
            "flatten (Flatten)            (None, 6400)              0         \n",
            "_________________________________________________________________\n",
            "dense (Dense)                (None, 512)               3277312   \n",
            "_________________________________________________________________\n",
            "dense_1 (Dense)              (None, 8)                 4104      \n",
            "=================================================================\n",
            "Total params: 3,305,000\n",
            "Trainable params: 3,305,000\n",
            "Non-trainable params: 0\n",
            "_________________________________________________________________\n"
          ],
          "name": "stdout"
        }
      ]
    },
    {
      "cell_type": "code",
      "metadata": {
        "id": "jm647Wj-N2rU",
        "outputId": "d3f9af83-a27b-4aa6-df8f-e768903f4dc8",
        "colab": {
          "base_uri": "https://localhost:8080/"
        }
      },
      "source": [
        "train_dir='/content/master_data/training'\n",
        "test_dir='/content/master_data/testing'\n",
        "\n",
        "train_datagen=ImageDataGenerator(rescale=1.0/255)\n",
        "train_generator=train_datagen.flow_from_directory(\n",
        "    train_dir,\n",
        "    target_size=(100,100),\n",
        "    class_mode='categorical',\n",
        "    batch_size=128    \n",
        ")\n",
        "\n",
        "test_datagen=ImageDataGenerator(rescale=1.0/255)\n",
        "test_generator=train_datagen.flow_from_directory(\n",
        "    test_dir,\n",
        "    target_size=(100,100),\n",
        "    class_mode='categorical',\n",
        "    batch_size=128    \n",
        ")\n"
      ],
      "execution_count": 10,
      "outputs": [
        {
          "output_type": "stream",
          "text": [
            "Found 10941 images belonging to 8 classes.\n",
            "Found 2742 images belonging to 8 classes.\n"
          ],
          "name": "stdout"
        }
      ]
    },
    {
      "cell_type": "code",
      "metadata": {
        "id": "_gz51njbOfbb"
      },
      "source": [
        "es=EarlyStopping(monitor='val_acc',patience=2,min_delta=0.01)"
      ],
      "execution_count": 11,
      "outputs": []
    },
    {
      "cell_type": "code",
      "metadata": {
        "id": "IWJOU4loPNWn",
        "outputId": "2c4235d8-1abc-4827-c0af-ce95ec2f467b",
        "colab": {
          "base_uri": "https://localhost:8080/"
        }
      },
      "source": [
        "model.fit_generator(train_generator,\n",
        "                    epochs=10,\n",
        "                    verbose=1,\n",
        "                    validation_data=test_generator,\n",
        "                    callbacks=[es])"
      ],
      "execution_count": 12,
      "outputs": [
        {
          "output_type": "stream",
          "text": [
            "WARNING:tensorflow:From <ipython-input-12-860791d9b115>:5: Model.fit_generator (from tensorflow.python.keras.engine.training) is deprecated and will be removed in a future version.\n",
            "Instructions for updating:\n",
            "Please use Model.fit, which supports generators.\n",
            "Epoch 1/10\n",
            "86/86 [==============================] - 15s 172ms/step - loss: 1.4874 - acc: 0.4908 - val_loss: 1.0428 - val_acc: 0.5011\n",
            "Epoch 2/10\n",
            "86/86 [==============================] - 14s 165ms/step - loss: 1.0387 - acc: 0.4995 - val_loss: 1.0425 - val_acc: 0.5011\n",
            "Epoch 3/10\n",
            "86/86 [==============================] - 14s 165ms/step - loss: 1.0401 - acc: 0.4980 - val_loss: 1.0437 - val_acc: 0.5011\n"
          ],
          "name": "stdout"
        },
        {
          "output_type": "execute_result",
          "data": {
            "text/plain": [
              "<tensorflow.python.keras.callbacks.History at 0x7f59244ce4e0>"
            ]
          },
          "metadata": {
            "tags": []
          },
          "execution_count": 12
        }
      ]
    },
    {
      "cell_type": "code",
      "metadata": {
        "id": "nVoLmE2oPbFd",
        "outputId": "71cdc42b-d376-48cb-c15a-f624053b4ea9",
        "colab": {
          "base_uri": "https://localhost:8080/"
        }
      },
      "source": [
        "# Trying to tweak some hyperparameters\n",
        "model=tf.keras.models.Sequential([\n",
        "  Conv2D(16,(3,3),activation='relu',input_shape=(100,100, 3)),\n",
        "  MaxPooling2D(2,2),\n",
        "  Conv2D(32,(3,3),activation='relu'),\n",
        "  MaxPooling2D(2,2),\n",
        "  Conv2D(64,(3,3),activation='relu'),\n",
        "  MaxPooling2D(2,2),   \n",
        "  Flatten(),\n",
        "  Dense(1024,activation='relu'),\n",
        "  Dense(8,activation='softmax')                             \n",
        "])\n",
        "model.compile(optimizer=Adam(lr=0.01),loss='categorical_crossentropy',metrics=['acc'])\n",
        "model.summary()"
      ],
      "execution_count": 13,
      "outputs": [
        {
          "output_type": "stream",
          "text": [
            "Model: \"sequential_1\"\n",
            "_________________________________________________________________\n",
            "Layer (type)                 Output Shape              Param #   \n",
            "=================================================================\n",
            "conv2d_3 (Conv2D)            (None, 98, 98, 16)        448       \n",
            "_________________________________________________________________\n",
            "max_pooling2d_3 (MaxPooling2 (None, 49, 49, 16)        0         \n",
            "_________________________________________________________________\n",
            "conv2d_4 (Conv2D)            (None, 47, 47, 32)        4640      \n",
            "_________________________________________________________________\n",
            "max_pooling2d_4 (MaxPooling2 (None, 23, 23, 32)        0         \n",
            "_________________________________________________________________\n",
            "conv2d_5 (Conv2D)            (None, 21, 21, 64)        18496     \n",
            "_________________________________________________________________\n",
            "max_pooling2d_5 (MaxPooling2 (None, 10, 10, 64)        0         \n",
            "_________________________________________________________________\n",
            "flatten_1 (Flatten)          (None, 6400)              0         \n",
            "_________________________________________________________________\n",
            "dense_2 (Dense)              (None, 1024)              6554624   \n",
            "_________________________________________________________________\n",
            "dense_3 (Dense)              (None, 8)                 8200      \n",
            "=================================================================\n",
            "Total params: 6,586,408\n",
            "Trainable params: 6,586,408\n",
            "Non-trainable params: 0\n",
            "_________________________________________________________________\n"
          ],
          "name": "stdout"
        }
      ]
    },
    {
      "cell_type": "code",
      "metadata": {
        "id": "2h-fzBPoRxXT",
        "outputId": "e39ccc35-f0d0-4a47-f6a2-f39b7cdd5fbf",
        "colab": {
          "base_uri": "https://localhost:8080/"
        }
      },
      "source": [
        "model.fit_generator(train_generator,\n",
        "                    epochs=10,\n",
        "                    verbose=1,\n",
        "                    validation_data=test_generator,\n",
        "                    callbacks=[es])"
      ],
      "execution_count": 14,
      "outputs": [
        {
          "output_type": "stream",
          "text": [
            "Epoch 1/10\n",
            "86/86 [==============================] - 15s 169ms/step - loss: 1.5962 - acc: 0.4942 - val_loss: 1.0220 - val_acc: 0.5011\n",
            "Epoch 2/10\n",
            "86/86 [==============================] - 14s 167ms/step - loss: 0.9613 - acc: 0.6076 - val_loss: 0.9403 - val_acc: 0.6379\n",
            "Epoch 3/10\n",
            "86/86 [==============================] - 14s 163ms/step - loss: 0.8040 - acc: 0.7184 - val_loss: 0.9888 - val_acc: 0.6222\n",
            "Epoch 4/10\n",
            "86/86 [==============================] - 14s 165ms/step - loss: 0.7589 - acc: 0.7409 - val_loss: 1.0420 - val_acc: 0.6182\n"
          ],
          "name": "stdout"
        },
        {
          "output_type": "execute_result",
          "data": {
            "text/plain": [
              "<tensorflow.python.keras.callbacks.History at 0x7f59b36e4710>"
            ]
          },
          "metadata": {
            "tags": []
          },
          "execution_count": 14
        }
      ]
    }
  ]
}